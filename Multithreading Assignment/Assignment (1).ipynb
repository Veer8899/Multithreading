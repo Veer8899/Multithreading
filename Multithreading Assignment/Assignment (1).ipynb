{
 "cells": [
  {
   "cell_type": "markdown",
   "id": "118a95a0-9d3d-42ec-acf9-e7fd5dc7ddcf",
   "metadata": {},
   "source": [
    "## Q1. What is multithreading in python? Why is it used? Name the module used to handle threads in python."
   ]
  },
  {
   "cell_type": "markdown",
   "id": "2d8b148f-3e51-456a-919a-18123eff489f",
   "metadata": {},
   "source": [
    "#### Multithreading is a programming and execution model that allows multiple threads of execution to run concurrently within a single process.  In simple word we can say that in a single processor when we perform multiple task at the same time. \n",
    "#### It is used because by dividing a program into multiple threads, tasks can be executed concurrently, allowing for faster execution and better resource utilization. \n",
    "#### The module used to handle threads in python is 'Threading'."
   ]
  },
  {
   "cell_type": "markdown",
   "id": "8ef5fcba-0065-4e15-b920-0b7aff39bcc7",
   "metadata": {},
   "source": [
    "## Q2. Why threading module used? Write the use of the following functions:\n",
    "1. activeCount()\n",
    "2. currentThread()\n",
    "3. enumerate()"
   ]
  },
  {
   "cell_type": "markdown",
   "id": "d9751a10-3dd6-4bd9-9577-c5a0f2d35291",
   "metadata": {},
   "source": [
    "#### The threading module is commonly used to handle threads. It provides a high-level interface for creating and managing threads. The threading module allows us to create and start threads, synchronize their execution using locks or events, and perform other thread related operations."
   ]
  },
  {
   "cell_type": "markdown",
   "id": "ecdc13ec-bf2e-4451-a6ae-7efae1bce42e",
   "metadata": {},
   "source": [
    "#### activeCount(): This function is a method provided by the threading module in Python. It returns the number of Thread objects currently alive or active. It helps in determining the number of threads that are currently running or executing within a program."
   ]
  },
  {
   "cell_type": "code",
   "execution_count": 4,
   "id": "642825f3-1712-4b3c-b3f1-d4260f35c624",
   "metadata": {},
   "outputs": [],
   "source": [
    "import threading\n",
    "import logging\n",
    "logging.basicConfig(filename = \"test1.txt\", level = logging.INFO)#\n",
    "\n",
    "def test(id):\n",
    "    #print(\"program start %d\" % id)\n",
    "    logging.info(\"Program start %d\" % id)\n",
    "    \n",
    "thread=[threading.Thread(target = test, args = (i,)) for i in range(10)]\n",
    "for t in thread:\n",
    "    t.start()\n",
    "    t.join()\n",
    "    \n",
    "active_thread = threading.active_count() # Get the number of active threads\n",
    "#print(\"Number of active threads:\", active_thread)\n",
    "logging.info(\"Number of active threads: \" + str(active_thread))"
   ]
  },
  {
   "cell_type": "markdown",
   "id": "15570036-5cd6-4a5a-92fa-89c3427e8f96",
   "metadata": {},
   "source": [
    "#### currentThread():  It returns the current Thread object, representing the thread from which the function is called. This function is often used to obtain a reference to the thread executing the code at a particular point. It can be useful for various purposes, such as accessing thread-specific data or identifying the current thread for debugging or logging purposes."
   ]
  },
  {
   "cell_type": "code",
   "execution_count": 12,
   "id": "3e04d89f-0a3e-40be-b313-a7ff02d9d54d",
   "metadata": {},
   "outputs": [],
   "source": [
    "import threading\n",
    "import logging\n",
    "logging.basicConfig(filename = \"test2.txt\", level = logging.INFO)#\n",
    "\n",
    "def test(id):\n",
    "    logging.info(\"This is current threads: %s \", threading.current_thread().name)\n",
    "    \n",
    "thread=[threading.Thread(target = test, args = (i,)) for i in range(10)]\n",
    "for t in thread:\n",
    "    t.start()\n",
    "    t.join()"
   ]
  },
  {
   "cell_type": "markdown",
   "id": "d33e36c7-1b68-44d9-9382-3c8022c9e603",
   "metadata": {},
   "source": [
    "#### enumerate(): This function is a built-in function in Python, and it can be applied to any iterable, including the list of active threads obtained from the threading module. When used with the list of active threads returned by threading.enumerate(), it provides a convenient way to obtain a list of all currently active Thread objects. "
   ]
  },
  {
   "cell_type": "code",
   "execution_count": 13,
   "id": "d583bfb2-d601-45a2-9514-4b5f24b5f863",
   "metadata": {},
   "outputs": [],
   "source": [
    "import threading\n",
    "import logging\n",
    "logging.basicConfig(filename = \"test3.txt\", level = logging.INFO)#\n",
    "\n",
    "\n",
    "def test1(id):\n",
    "    logging.info(\"This is threads: %s \", threading.current_thread().name)\n",
    "    \n",
    "threads = []\n",
    "for i in range(3):\n",
    "    thread = threading.Thread(target=test1, args = (id,))\n",
    "    thread.start()\n",
    "    threads.append(thread)\n",
    "    \n",
    "for index, thread in enumerate(threads):\n",
    "    logging.info(\"Thread at index %d: %s\", index, thread)\n",
    "\n",
    "for thread in threads: \n",
    "    thread.join()"
   ]
  },
  {
   "cell_type": "markdown",
   "id": "27bc4b8a-64fe-4680-ae2d-08b118c7232c",
   "metadata": {},
   "source": [
    "## Q3. Explain the following functions:\n",
    "### 1. run\n",
    "### 2. start\n",
    "### 3. join\n",
    "### 4. isAlive"
   ]
  },
  {
   "cell_type": "markdown",
   "id": "43245c88-6126-4758-85c8-f6bd1d2dd65a",
   "metadata": {},
   "source": [
    "#### run(): This method is a method defined in the Thread class (or its subclasses) that represents the code that will be executed when the thread is started. It is typically overridden by the user to define the specific task or operation that the thread should perform. When the start() method is called on a thread object, it internally calls the run() method to execute the code associated with that thread."
   ]
  },
  {
   "cell_type": "markdown",
   "id": "d5b9bdd7-8a20-4c53-906d-51da546e387b",
   "metadata": {},
   "source": [
    "#### start(): This method is used to start the execution of a thread. It creates a new thread of execution, invokes the run() method of the thread, and allows it to run concurrently with other threads."
   ]
  },
  {
   "cell_type": "markdown",
   "id": "9998e4e4-b8f6-4b91-ba90-9dc264e8e7d4",
   "metadata": {},
   "source": [
    "#### join(): This method is used to wait for a thread to complete its execution. When a thread calls the join() method on another thread, it waits until that other thread has finished executing. "
   ]
  },
  {
   "cell_type": "markdown",
   "id": "9c56faa3-9219-459c-ab46-c5ea0f3054c2",
   "metadata": {},
   "source": [
    "#### isAlive(): This method is a boolean function that returns True if a thread is currently executing and False otherwise. It can be used to check the status of a thread and determine whether it is still actively running."
   ]
  },
  {
   "cell_type": "code",
   "execution_count": 21,
   "id": "022c6f06-613c-45eb-b62b-8d4730593ee4",
   "metadata": {},
   "outputs": [],
   "source": [
    "import threading\n",
    "import time\n",
    "import logging\n",
    "\n",
    "logging.basicConfig(filename = \"test4.txt\", level = logging.INFO, format = '%(threadName)s: %(message)s')\n",
    "\n",
    "def test3(id):\n",
    "    logging.info(\"Thread is executing\")\n",
    "    time.sleep(1)\n",
    "    logging.info(\"Thread execution completed\")\n",
    "    \n",
    "threads = []\n",
    "for i in range(3):\n",
    "    thread = threading.Thread(target=test3, args = (id,))\n",
    "    threads.append(thread)\n",
    "\n",
    "\n",
    "for thread in threads:\n",
    "    thread.start()\n",
    "    \n",
    "for thread in threads:\n",
    "    thread.join()\n",
    "    logging.info(\"Thread joined\")\n",
    "    \n",
    "for thread in threads:\n",
    "    if thread.is_alive():\n",
    "        logging.info(\"Thread is still alive\")\n",
    "    else:\n",
    "        logging.info(\"Thread has finished execution\")\n",
    "    \n",
    "    "
   ]
  },
  {
   "cell_type": "markdown",
   "id": "e0a9861a-596c-402c-85bd-61783eb9286d",
   "metadata": {},
   "source": [
    "## Q4. Write a python program to create two threads. Thread one must print the list of squares and thread two must print the list of cubes."
   ]
  },
  {
   "cell_type": "code",
   "execution_count": 3,
   "id": "d9afd9cf-2367-46ae-a268-2fb1cc2f0282",
   "metadata": {},
   "outputs": [],
   "source": [
    "import threading\n",
    "import logging\n",
    "\n",
    "logging.basicConfig(filename = \"test5.txt\", level = logging.INFO)\n",
    "\n",
    "def squares():\n",
    "    for i in range(1,10):\n",
    "        logging.info(\"Square of %d is %d\", i, i**2)\n",
    "    \n",
    "def cubes():\n",
    "    for i in range(1, 10):\n",
    "        logging.info(\"Cube of %d is %d\", i, i**3)\n",
    "        \n",
    "m1 = threading.Thread(target=squares)\n",
    "m2= threading.Thread(target=cubes)\n",
    "\n",
    "m1.start()\n",
    "m2.start()\n",
    "m1.join()\n",
    "m2.join()\n",
    "        \n",
    "\n"
   ]
  },
  {
   "cell_type": "markdown",
   "id": "e9d0d0e2-1ac8-4b9a-b8c6-e115d7c90255",
   "metadata": {},
   "source": [
    "## Q5. State advantages and disadvantages of multithreading"
   ]
  },
  {
   "cell_type": "markdown",
   "id": "a8ee3e05-fb60-462d-8c09-c0d7349e6605",
   "metadata": {},
   "source": [
    "### Advantages of Multithreading:\n",
    "#### Improved user experience --> Multithreading enhances the responsiveness of applications. It ensures that the user interface remains smooth and responsive even when performing complex or time-consuming operations in the background. It prevents the application from freezing or becoming unresponsive.\n",
    "#### Enhanced Performance--> Multithreading can improve performance by utilizing the available CPU resources more efficiently.\n",
    "#### Resource Sharing--> Threads within the same process share the same memory space, which enables efficient sharing of data and resources. \n",
    "#### Simplified Programming-->  Multithreading allows developers to break down complex tasks into smaller, manageable threads. This makes the program easier to understand and maintain.\n",
    "#### Faster Execution--> Multithreading allows different parts of a program to run simultaneously, making the program execute faster. It's like having multiple workers working on different tasks at the same time, resulting in quicker completion of work.\n",
    "### Disadvantages of Multithreading:\n",
    "#### Increased Complexity--> It adds complexity to program design and development.\n",
    "#### Bugs and Errors--> Multithreading introduces the possibility of new types of bugs and errors. Issues like race conditions, deadlocks\n",
    "#### Resource Overhead--> Each thread consumes system resources, including memory and CPU time.  Creating too many threads or inefficiently managing resources can lead to resource exhaustion and decreased performance.\n",
    "#### Debugging Challenges-->  Debugging multithreaded programs can be more challenging. Identifying and fixing bugs can be difficult due to the non-deterministic nature of thread execution and potential interactions between threads.\n",
    "#### Scalability Limitations--> Although multithreading can enhance performance, it may not always scale linearly with the number of threads. In some cases, adding more threads may not significantly improve performance or may even introduce additional overhead due to increased thread synchronization and coordination."
   ]
  },
  {
   "cell_type": "markdown",
   "id": "a787b277-9c8a-4442-b4fa-c655d6b87b73",
   "metadata": {},
   "source": [
    "## Q6. Explain deadlocks and race conditions."
   ]
  },
  {
   "cell_type": "markdown",
   "id": "57c04a15-2922-40b6-88c0-9f7a024a06aa",
   "metadata": {},
   "source": [
    "#### Deadlock is a situation where two or more threads or processes are unable to proceed because each is waiting for the other to release a resource. In other words, it's a situation where threads are stuck in a circular dependency, preventing any of them from making progress. \n",
    "#### For example"
   ]
  },
  {
   "cell_type": "code",
   "execution_count": null,
   "id": "456e4454-623d-490e-933d-c18dbc4a5a3d",
   "metadata": {},
   "outputs": [],
   "source": [
    "import threading\n",
    "import logging\n",
    "import time\n",
    "\n",
    "logging.basicConfig(filename = \"test6.txt\", level = logging.INFO, format='%(asctime)s %(threadName)s %(message)s')\n",
    "\n",
    "var_a = threading.Lock()\n",
    "var_b = threading.Lock()\n",
    "\n",
    "def test5():\n",
    "    with var_a:\n",
    "        logging.info(\"Thread 1 acquired var a\")\n",
    "        time.sleep(1)\n",
    "        with var_b:\n",
    "            logging.info(\"Thread 1 acquired var b\")\n",
    "            \n",
    "def test6():\n",
    "    with var_b:\n",
    "        logging.info(\"Thread 2 acquired var b\")\n",
    "        time.sleep(1)\n",
    "        with var_a:\n",
    "            logging.info(\"Thread 2 acquired var a\")\n",
    "            \n",
    "m1 = threading.Thread(target=test5)\n",
    "m2 = threading.Thread(target=test6) \n",
    "\n",
    "m1.start()\n",
    "m2.start()\n",
    "\n",
    "m1.join()\n",
    "m2.join()\n",
    "\n",
    "\n",
    "            \n",
    "    \n"
   ]
  },
  {
   "cell_type": "markdown",
   "id": "9b5effda-bfe3-4cac-80f6-4941413a887e",
   "metadata": {},
   "source": [
    "#### A race condition occurs when the behavior of a program depends on the relative timing or interleaving of multiple threads or processes accessing shared resources. It arises when the correctness of the program's output or behavior depends on the specific order in which operations are executed by different threads. Race conditions can lead to unpredictable and incorrect results. Race conditions usually happen when multiple threads access and manipulate shared data concurrently without proper synchronization."
   ]
  },
  {
   "cell_type": "markdown",
   "id": "926b87f0-291a-408a-80fe-fe1168aeb0d8",
   "metadata": {},
   "source": [
    "#### for example"
   ]
  },
  {
   "cell_type": "code",
   "execution_count": 3,
   "id": "b6a5ac23-8a89-49b3-a3fd-ec68f66ebf49",
   "metadata": {},
   "outputs": [],
   "source": [
    "import threading\n",
    "import logging\n",
    "\n",
    "\n",
    "logging.basicConfig(filename = \"test7.txt\", level = logging.INFO, format='%(asctime)s %(threadName)s %(message)s')\n",
    "\n",
    "counter = 0\n",
    "def increment_counter():\n",
    "    global counter\n",
    "    for _ in range(1000000):\n",
    "        counter += 1\n",
    "    logging.info(\"Counter incremented\")\n",
    "\n",
    "def decrement_counter():\n",
    "    global counter\n",
    "    for _ in range(1000000):\n",
    "        counter -= 1\n",
    "    logging.info(\"Counter decremented\")\n",
    "\n",
    "thread1 = threading.Thread(target=increment_counter)\n",
    "thread2 = threading.Thread(target=decrement_counter)\n",
    "thread1.start()\n",
    "thread2.start()\n",
    "thread1.join()\n",
    "thread2.join()\n",
    "\n",
    "\n",
    "logging.info(\"Final counter value: %d\", counter)\n",
    "\n"
   ]
  },
  {
   "cell_type": "code",
   "execution_count": null,
   "id": "0fceece2-f847-4e34-b9c5-77343530adff",
   "metadata": {},
   "outputs": [],
   "source": []
  }
 ],
 "metadata": {
  "kernelspec": {
   "display_name": "Python 3 (ipykernel)",
   "language": "python",
   "name": "python3"
  },
  "language_info": {
   "codemirror_mode": {
    "name": "ipython",
    "version": 3
   },
   "file_extension": ".py",
   "mimetype": "text/x-python",
   "name": "python",
   "nbconvert_exporter": "python",
   "pygments_lexer": "ipython3",
   "version": "3.10.8"
  }
 },
 "nbformat": 4,
 "nbformat_minor": 5
}
